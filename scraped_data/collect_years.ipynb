{
 "cells": [
  {
   "cell_type": "code",
   "execution_count": 1,
   "id": "35134213-db9d-46a5-8909-ea3539cf8cf0",
   "metadata": {},
   "outputs": [
    {
     "name": "stdout",
     "output_type": "stream",
     "text": [
      "Saved /home/gaber/basketball/contract/matchups/scraped_data/2022_dfgtotal.csv\n",
      "Saved /home/gaber/basketball/contract/matchups/scraped_data/2023_dfgtotal.csv\n",
      "Saved /home/gaber/basketball/contract/matchups/scraped_data/2024_dfgtotal.csv\n",
      "Saved /home/gaber/basketball/contract/matchups/scraped_data/2019_dfgtotal.csv\n",
      "Saved /home/gaber/basketball/contract/matchups/scraped_data/2025_dfgtotal.csv\n"
     ]
    }
   ],
   "source": [
    "import os\n",
    "import pandas as pd\n",
    "\n",
    "# Get current directory\n",
    "base_dir = os.getcwd()\n",
    "\n",
    "# Loop through all directories that match the pattern \"year_\"\n",
    "for folder in os.listdir(base_dir):\n",
    "    if folder.startswith(\"year_\") and os.path.isdir(folder):\n",
    "        year = folder.split(\"_\")[1]\n",
    "        folder_path = os.path.join(base_dir, folder)\n",
    "        \n",
    "        csv_files = [f for f in os.listdir(folder_path) if f.endswith(\".csv\")]\n",
    "        dfs = []\n",
    "\n",
    "        for file in csv_files:\n",
    "            file_path = os.path.join(folder_path, file)\n",
    "            try:\n",
    "                df = pd.read_csv(file_path)\n",
    "                dfs.append(df)\n",
    "            except Exception as e:\n",
    "                print(f\"Error reading {file_path}: {e}\")\n",
    "        \n",
    "        if dfs:\n",
    "            combined_df = pd.concat(dfs, ignore_index=True)\n",
    "            output_file = os.path.join(base_dir, f\"{year}_dfgtotal.csv\")\n",
    "            combined_df.to_csv(output_file, index=False)\n",
    "            print(f\"Saved {output_file}\")\n",
    "        else:\n",
    "            print(f\"No CSVs found in {folder_path}\")\n"
   ]
  },
  {
   "cell_type": "code",
   "execution_count": null,
   "id": "67ad2150-04e7-46f9-a437-2a614f475bb5",
   "metadata": {},
   "outputs": [],
   "source": []
  }
 ],
 "metadata": {
  "kernelspec": {
   "display_name": "Python 3 (ipykernel)",
   "language": "python",
   "name": "python3"
  },
  "language_info": {
   "codemirror_mode": {
    "name": "ipython",
    "version": 3
   },
   "file_extension": ".py",
   "mimetype": "text/x-python",
   "name": "python",
   "nbconvert_exporter": "python",
   "pygments_lexer": "ipython3",
   "version": "3.12.3"
  }
 },
 "nbformat": 4,
 "nbformat_minor": 5
}
